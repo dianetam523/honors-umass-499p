{
 "cells": [
  {
   "cell_type": "markdown",
   "metadata": {},
   "source": [
    "# Exploring Visualization Error Metrics\n",
    "- The following notebook compares sample visualization error metrics as a graph for different 1D noisy data outputs\n",
    "- Generates and compares L1, L2, and Linf errors as well as self-defined M1, M2, M3 errors\n",
    "<br>\n",
    "M1: Difference of true vs noisy max INDEX\n",
    "<br>\n",
    "M2: Difference of true vs noisy max VALUE\n",
    "<br>\n",
    "M3: Difference of true vs noisy 2nd max INDEX"
   ]
  },
  {
   "cell_type": "code",
   "execution_count": 2,
   "metadata": {
    "scrolled": true
   },
   "outputs": [],
   "source": [
    "import numpy as np\n",
    "import pandas as pd\n",
    "import matplotlib.pyplot as plt\n",
    "import seaborn as sns\n",
    "import matplotlib.ticker as ticker\n",
    "import math\n",
    "\n",
    "import sys,os\n",
    "DPCOMP_PATH = '/nfs/avid/data1/miklau/dpcomp-parent/dpcomp_core_op'\n",
    "sys.path.append(DPCOMP_PATH)\n",
    "os.environ['DPCOMP_CORE']= DPCOMP_PATH"
   ]
  },
  {
   "cell_type": "code",
   "execution_count": 618,
   "metadata": {
    "collapsed": true,
    "scrolled": true
   },
   "outputs": [],
   "source": [
    "%matplotlib inline\n",
    "plt.rcParams['figure.figsize'] = (20.0, 10.0)\n",
    "sns.set_style(\"whitegrid\")"
   ]
  },
  {
   "cell_type": "code",
   "execution_count": 619,
   "metadata": {
    "collapsed": true,
    "scrolled": true
   },
   "outputs": [],
   "source": [
    "from dpcomp_core.algorithm import *\n",
    "from dpcomp_core import dataset\n",
    "from dpcomp_core import util\n",
    "from dpcomp_core import workload"
   ]
  },
  {
   "cell_type": "code",
   "execution_count": 620,
   "metadata": {},
   "outputs": [
    {
     "data": {
      "text/plain": [
       "<module 'visual_metric' from 'visual_metric.pyc'>"
      ]
     },
     "execution_count": 620,
     "metadata": {},
     "output_type": "execute_result"
    }
   ],
   "source": [
    "# Include visual_metric.py to calculate different error metric scores\n",
    "import visual_metric\n",
    "visual_metric"
   ]
  },
  {
   "cell_type": "code",
   "execution_count": 621,
   "metadata": {
    "scrolled": false
   },
   "outputs": [],
   "source": [
    "# number of bins\n",
    "# domain = (256,)\n",
    "domain = 256\n",
    "\n",
    "epsilon = 0.1\n",
    "\n",
    "nickname = 'HEPTH'\n",
    "# nickname = 'BIDS-ALL'\n",
    "\n",
    "# number of data points from sample_to_scale data generation\n",
    "sample = 1e4\n",
    "\n",
    "# ESPairs = [(0.1, 1e4), (0.01, 1e5), (0.001, 1e6)]\n",
    "\n",
    "seeds = range(20)\n",
    "\n",
    "ds_seed = 111\n",
    "\n",
    "# Instantiate dataset\n",
    "data = dataset.DatasetSampledFromFile(nickname=nickname, \n",
    "                                     sample_to_scale=sample, \n",
    "                                     reduce_to_dom_shape=domain, \n",
    "                                     seed=ds_seed)\n",
    "\n",
    "# Instantiate workload\n",
    "# w = workload.Identity(domain_shape=domain)\n",
    "w = workload.Prefix1D(domain_shape_int=domain)\n",
    "\n",
    "# print w.__class__.__name__\n",
    "\n",
    "# Instantiate algorithms\n",
    "a = identity.identity_engine()\n",
    "b = HB.HB_engine()\n",
    "c = mwemND.mwemND_engine()\n",
    "d = dawa.dawa_engine()\n",
    "\n",
    "algorithms = [a, b, c, d]\n",
    "# print identity.identity_engine().short_name"
   ]
  },
  {
   "cell_type": "code",
   "execution_count": 622,
   "metadata": {
    "scrolled": false
   },
   "outputs": [
    {
     "name": "stdout",
     "output_type": "stream",
     "text": [
      "Max: 122, Index: 223\n"
     ]
    }
   ],
   "source": [
    "# original data\n",
    "dat = data.payload\n",
    "\n",
    "df = pd.DataFrame(dat)\n",
    "x = df.index.values\n",
    "y = df.values.flatten()\n",
    "\n",
    "# clrs = ['red' if (k == max(y)) else 'black' for k in y ]\n",
    "# orig = sns.barplot(x=x, y=y, palette=clrs)\n",
    "\n",
    "maxValOrig = max(y)\n",
    "maxValIndexOrig = y.argmax()\n",
    "\n",
    "print \"Max: %d, Index: %d\" % (maxValOrig, maxValIndexOrig)"
   ]
  },
  {
   "cell_type": "code",
   "execution_count": 623,
   "metadata": {
    "scrolled": false
   },
   "outputs": [],
   "source": [
    "datCDF= np.cumsum(dat)"
   ]
  },
  {
   "cell_type": "code",
   "execution_count": 631,
   "metadata": {
    "scrolled": false
   },
   "outputs": [
    {
     "name": "stdout",
     "output_type": "stream",
     "text": [
      "SEED:  0\n",
      "SEED:  10\n",
      "{'Linf': {'HB': 0.027158498898929122, 'MWEM': 0.050300783751541969, 'Identity': 0.026144886003485902, 'DAWA': 0.017299225331123828}, 'L2': {'HB': 0.00059059060185855561, 'MWEM': 0.0010957104271801061, 'Identity': 0.00080155449025950585, 'DAWA': 0.00046537114329689812}, 'L1': {'HB': 0.0075664010938627348, 'MWEM': 0.01313287288748111, 'Identity': 0.010793462823248083, 'DAWA': 0.0059048714863046458}}\n"
     ]
    }
   ],
   "source": [
    "errs = dict(dict())\n",
    "\n",
    "# metr = [\"M1\", \"M2\", \"M3\"]\n",
    "metr = [\"L1\", \"L2\", \"Linf\"]\n",
    "# metr = [\"L1\", \"L2\", \"Linf\", \"M1\", \"M2\", \"M3\"]\n",
    "# metr = [\"chi-sq\"]\n",
    "\n",
    "for m in metr:\n",
    "    errs[m] = {}\n",
    "    for alg in algorithms:\n",
    "        errs[m][alg.short_name] = []\n",
    "# Use different seeds and average for a more accurate error sample\n",
    "for seed in seeds:\n",
    "    if seed % 10 == 0:\n",
    "        print \"SEED: \", seed\n",
    "    for alg in algorithms:\n",
    "#         print \"Algorithm: \", alg.short_name\n",
    "        \n",
    "        x_hat = alg.Run(w, dat, epsilon, seed)\n",
    "        df_hat = pd.DataFrame(x_hat)\n",
    "        x_hat_data = df_hat.index.values\n",
    "        y_hat_data = df_hat.values.flatten()\n",
    "\n",
    "        # normalized non-negative rounding post-processing\n",
    "        negSum = sum(y_hat_data)\n",
    "        posSum = 0.00\n",
    "        for i in y_hat_data:\n",
    "            if i >= 0:\n",
    "                posSum += i\n",
    "        y_hat_data = [x*(negSum/posSum) if x >= 0 else 0 for x in y_hat_data]\n",
    "\n",
    "        datCDF_noisy = np.cumsum(y_hat_data)\n",
    "        \n",
    "        settings = (epsilon, seed, ds_seed, alg, nickname, workload.Prefix1D, sample, domain)\n",
    "        \n",
    "        reload(visual_metric)\n",
    "        vm = visual_metric.VisualMetric(y, y_hat_data, settings)\n",
    "        for m in metr:\n",
    "            errs[m][alg.short_name].append(vm.calcError(m))\n",
    "            \n",
    "# print errs\n",
    "\n",
    "avgErrors = errs\n",
    "for e in avgErrors:\n",
    "    for alg in avgErrors[e]:\n",
    "        v = errs[e][alg]\n",
    "        if len(v) > 0:\n",
    "            avgErrors[e][alg] = sum(avgErrors[e][alg])/len(avgErrors[e][alg])\n",
    "        else:\n",
    "            avgErrors[e][alg] = None\n",
    "print avgErrors"
   ]
  },
  {
   "cell_type": "code",
   "execution_count": 632,
   "metadata": {},
   "outputs": [
    {
     "data": {
      "text/html": [
       "<div>\n",
       "<table border=\"1\" class=\"dataframe\">\n",
       "  <thead>\n",
       "    <tr style=\"text-align: right;\">\n",
       "      <th></th>\n",
       "      <th>alg</th>\n",
       "      <th>metric</th>\n",
       "      <th>error</th>\n",
       "    </tr>\n",
       "  </thead>\n",
       "  <tbody>\n",
       "    <tr>\n",
       "      <th>0</th>\n",
       "      <td>DAWA</td>\n",
       "      <td>L1</td>\n",
       "      <td>0.005905</td>\n",
       "    </tr>\n",
       "    <tr>\n",
       "      <th>1</th>\n",
       "      <td>DAWA</td>\n",
       "      <td>L2</td>\n",
       "      <td>0.000465</td>\n",
       "    </tr>\n",
       "    <tr>\n",
       "      <th>2</th>\n",
       "      <td>DAWA</td>\n",
       "      <td>Linf</td>\n",
       "      <td>0.017299</td>\n",
       "    </tr>\n",
       "    <tr>\n",
       "      <th>3</th>\n",
       "      <td>HB</td>\n",
       "      <td>L1</td>\n",
       "      <td>0.007566</td>\n",
       "    </tr>\n",
       "    <tr>\n",
       "      <th>4</th>\n",
       "      <td>HB</td>\n",
       "      <td>L2</td>\n",
       "      <td>0.000591</td>\n",
       "    </tr>\n",
       "    <tr>\n",
       "      <th>5</th>\n",
       "      <td>HB</td>\n",
       "      <td>Linf</td>\n",
       "      <td>0.027158</td>\n",
       "    </tr>\n",
       "    <tr>\n",
       "      <th>6</th>\n",
       "      <td>Identity</td>\n",
       "      <td>L1</td>\n",
       "      <td>0.010793</td>\n",
       "    </tr>\n",
       "    <tr>\n",
       "      <th>7</th>\n",
       "      <td>Identity</td>\n",
       "      <td>L2</td>\n",
       "      <td>0.000802</td>\n",
       "    </tr>\n",
       "    <tr>\n",
       "      <th>8</th>\n",
       "      <td>Identity</td>\n",
       "      <td>Linf</td>\n",
       "      <td>0.026145</td>\n",
       "    </tr>\n",
       "    <tr>\n",
       "      <th>9</th>\n",
       "      <td>MWEM</td>\n",
       "      <td>L1</td>\n",
       "      <td>0.013133</td>\n",
       "    </tr>\n",
       "    <tr>\n",
       "      <th>10</th>\n",
       "      <td>MWEM</td>\n",
       "      <td>L2</td>\n",
       "      <td>0.001096</td>\n",
       "    </tr>\n",
       "    <tr>\n",
       "      <th>11</th>\n",
       "      <td>MWEM</td>\n",
       "      <td>Linf</td>\n",
       "      <td>0.050301</td>\n",
       "    </tr>\n",
       "  </tbody>\n",
       "</table>\n",
       "</div>"
      ],
      "text/plain": [
       "         alg metric     error\n",
       "0       DAWA     L1  0.005905\n",
       "1       DAWA     L2  0.000465\n",
       "2       DAWA   Linf  0.017299\n",
       "3         HB     L1  0.007566\n",
       "4         HB     L2  0.000591\n",
       "5         HB   Linf  0.027158\n",
       "6   Identity     L1  0.010793\n",
       "7   Identity     L2  0.000802\n",
       "8   Identity   Linf  0.026145\n",
       "9       MWEM     L1  0.013133\n",
       "10      MWEM     L2  0.001096\n",
       "11      MWEM   Linf  0.050301"
      ]
     },
     "execution_count": 632,
     "metadata": {},
     "output_type": "execute_result"
    }
   ],
   "source": [
    "# Reformat as dataframe to graph as barplot\n",
    "df = pd.DataFrame.from_dict(avgErrors)\n",
    "df2 = df.stack()\n",
    "df2 = df2.to_frame()\n",
    "df3 = pd.DataFrame(df2.to_records())\n",
    "df3.columns = [\"alg\", \"metric\", \"error\"]\n",
    "df3"
   ]
  },
  {
   "cell_type": "code",
   "execution_count": 633,
   "metadata": {},
   "outputs": [
    {
     "data": {
      "text/plain": [
       "<seaborn.axisgrid.FacetGrid at 0x7f7953855890>"
      ]
     },
     "execution_count": 633,
     "metadata": {},
     "output_type": "execute_result"
    },
    {
     "data": {
      "image/png": "[encoded data removed]",
      "text/plain": [
       "<matplotlib.figure.Figure at 0x7f7953855e90>"
      ]
     },
     "metadata": {},
     "output_type": "display_data"
    }
   ],
   "source": [
    "g = sns.factorplot(x=\"metric\", y=\"error\", hue=\"alg\", data=df3, kind=\"bar\", palette=\"Blues\", size = 8)\n",
    "g.despine(left=True)\n",
    "g.set_ylabels(\"Error (Prefix 1D workload)\")\n",
    "g.set_xlabels(\"Metric (varied units)\")"
   ]
  },
  {
   "cell_type": "code",
   "execution_count": 577,
   "metadata": {},
   "outputs": [
    {
     "name": "stdout",
     "output_type": "stream",
     "text": [
      "{'L1': [0.0059048714863046458, 0.0075664010938627348, 0.010793462823248083, 0.01313287288748111], 'L2': [0.00046537114329689812, 0.00059059060185855561, 0.00080155449025950585, 0.0010957104271801061], 'M1': [24, 41, 9, 49], 'M3': [9, 44, 13, 47], 'M2': [14.787662600109272, 44.044600849360883, 6.2282478612989109, 50.583580982218706], 'Linf': [0.017299225331123828, 0.027158498898929122, 0.026144886003485902, 0.050300783751541969]}\n"
     ]
    }
   ],
   "source": [
    "plotData = {}\n",
    "\n",
    "for err in sorted(avgErrors):\n",
    "    for i in sorted(avgErrors[err]):\n",
    "        if avgErrors[err][i] != None:\n",
    "            if err not in plotData:\n",
    "                plotData[err] = [avgErrors[err][i]]\n",
    "            else:\n",
    "                plotData[err].append(avgErrors[err][i])\n",
    "#         print err, i, avgErrors[err][i]\n",
    "print plotData"
   ]
  },
  {
   "cell_type": "code",
   "execution_count": 445,
   "metadata": {},
   "outputs": [
    {
     "data": {
      "image/png": "[encoded data removed]",
      "text/plain": [
       "<matplotlib.figure.Figure at 0x7f7954fbfe50>"
      ]
     },
     "metadata": {},
     "output_type": "display_data"
    }
   ],
   "source": [
    "# Reformat to plot as barplot\n",
    "f, ax = plt.subplots(figsize=(7, 7))\n",
    "palettes = [\"deep\", \"muted\", \"bright\", \"dark\", \"pastel\"]\n",
    "count = 0\n",
    "for err in plotData:\n",
    "    sns.set_color_codes(palettes[count])\n",
    "#     print err, plotData[err]\n",
    "    sns.barplot(x=[\"DAWA\", \"HB\", \"Identity\", \"MWEM\"], y=plotData[err], label=err, color=\"g\")\n",
    "    count +=1\n",
    "ax.legend(ncol=2, loc=\"upper right\", frameon=True)\n",
    "sns.despine(left=True, bottom=True)"
   ]
  },
  {
   "cell_type": "code",
   "execution_count": null,
   "metadata": {
    "collapsed": true
   },
   "outputs": [],
   "source": []
  }
 ],
 "metadata": {
  "kernelspec": {
   "display_name": "Python 3",
   "language": "python",
   "name": "python3"
  },
  "language_info": {
   "codemirror_mode": {
    "name": "ipython",
    "version": 3
   },
   "file_extension": ".py",
   "mimetype": "text/x-python",
   "name": "python",
   "nbconvert_exporter": "python",
   "pygments_lexer": "ipython3",
   "version": "3.6.1"
  }
 },
 "nbformat": 4,
 "nbformat_minor": 1
}
